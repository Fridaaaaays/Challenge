{
 "cells": [
  {
   "cell_type": "code",
   "execution_count": null,
   "metadata": {},
   "outputs": [],
   "source": [
    "def convert_kelvin_celcius (kelvin) :\n",
    "  '''kelvin ke celcius'''\n",
    "  print (float(kelvin - 273))\n",
    "def convert_celcius_kelvin (celcius) :\n",
    "  '''celcius ke kelvin'''\n",
    "  print (float(celcius + 273))\n",
    "def convert_farenheit_celcius (farenheit) :\n",
    "  '''farenheit ke celcius'''\n",
    "  print ((farenheit - 32)* 5 / 9)\n",
    "def convert_celcius_farenheit (celcius1) :\n",
    "  '''celcius ke farenheit'''\n",
    "  print (celcius1 * 9 / 5 + 32)\n",
    "def convert_farenheit_kelvin (farenheit1) :\n",
    "  '''farenheit ke kelvin'''\n",
    "  print (5 / 9 *(farenheit1 - 32) + 273)\n",
    "def convert_kelvin_farenheit (kelvin1) :\n",
    "  '''kelvin ke farenheit'''\n",
    "  print (9 / 5 *(kelvin1 - 273) + 32)"
   ]
  },
  {
   "cell_type": "code",
   "execution_count": null,
   "metadata": {},
   "outputs": [],
   "source": [
    "c = ['celcius', 'Celcius']\n",
    "f = ['farenheit', 'Farenheit']\n",
    "k = ['kelvin', 'Kelvin']\n",
    "x = input('Jenis skala suhu : ' )\n",
    "if x in (c) :\n",
    "  y = (int(input('Berapa derajat? : ')))\n",
    "  print ('Suhu dalam farenheit : ') \n",
    "  convert_celcius_farenheit(y)\n",
    "  print ('Suhu dalam kelvin')\n",
    "  convert_celcius_kelvin(y)\n",
    "elif x in (f) :\n",
    "  z = (int(input('Berapa derajat? : ')))\n",
    "  print ('Suhu dalam Celcius : ')\n",
    "  convert_farenheit_celcius (z)\n",
    "  print ('Suhu dalam kelvin')\n",
    "  convert_farenheit_kelvin (z)\n",
    "elif x in (k) :\n",
    "  a = (int(input('Berapa derajat? : ')))\n",
    "  print ('Suhu dalam Celcius : ')\n",
    "  convert_kelvin_celcius (a)\n",
    "  print ('Suhu dalam farenheit : ')\n",
    "  convert_kelvin_farenheit (a)\n",
    "else :\n",
    "  print ('Tidak dikenali, coba ulang')"
   ]
  }
 ],
 "metadata": {
  "language_info": {
   "name": "python"
  },
  "orig_nbformat": 4
 },
 "nbformat": 4,
 "nbformat_minor": 2
}
