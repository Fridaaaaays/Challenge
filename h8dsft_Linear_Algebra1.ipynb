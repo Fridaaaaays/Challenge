{
 "cells": [
  {
   "attachments": {},
   "cell_type": "markdown",
   "metadata": {},
   "source": [
    "# **Import Library**"
   ]
  },
  {
   "cell_type": "code",
   "execution_count": 16,
   "metadata": {},
   "outputs": [],
   "source": [
    "import numpy as np"
   ]
  },
  {
   "attachments": {},
   "cell_type": "markdown",
   "metadata": {},
   "source": [
    "# **Working Area**"
   ]
  },
  {
   "attachments": {},
   "cell_type": "markdown",
   "metadata": {},
   "source": [
    "## 1. Buatlah vektor di bawah ini dengan Python"
   ]
  },
  {
   "cell_type": "code",
   "execution_count": 17,
   "metadata": {},
   "outputs": [
    {
     "data": {
      "text/plain": [
       "array([17, 22, 19])"
      ]
     },
     "execution_count": 17,
     "metadata": {},
     "output_type": "execute_result"
    }
   ],
   "source": [
    "v = np.array([17, 22, 19])\n",
    "v"
   ]
  },
  {
   "attachments": {},
   "cell_type": "markdown",
   "metadata": {},
   "source": [
    "## 2. Diberikan 3 buah vector 3 dimensi"
   ]
  },
  {
   "cell_type": "code",
   "execution_count": 19,
   "metadata": {},
   "outputs": [
    {
     "name": "stdout",
     "output_type": "stream",
     "text": [
      "[27 42 30]\n",
      "[5 8 2]\n",
      "[ 85 264 171]\n",
      "819\n",
      "33.67491648096547\n",
      "0.9759590023331435\n"
     ]
    }
   ],
   "source": [
    "'''Hitunglah: A+B'''\n",
    "v_a = v\n",
    "v_b = np.array([10, 20, 11])\n",
    "v_c = np.array([5, 12, 9])\n",
    "print (v_a + v_b)\n",
    "'''Hitunglah: B-C'''\n",
    "print (v_b - v_c)\n",
    "'''Hitunglah: A dot C'''\n",
    "print (v_a*v_c)\n",
    "'''Hitunglah: A x B'''\n",
    "print (v_a@v_b)\n",
    "'''Hitunglah: norm A'''\n",
    "print (np.linalg.norm(v_a))\n",
    "'''Hitunglah: Sudut antara vektor A dan B'''\n",
    "cos_theta = v_a @ v_b / (np.linalg.norm(v_a) * np.linalg.norm(v_b))\n",
    "print (cos_theta)\n"
   ]
  },
  {
   "attachments": {},
   "cell_type": "markdown",
   "metadata": {},
   "source": [
    "## 3. Buatlah plot dari vector berikut ini kedalam bidang 2D"
   ]
  },
  {
   "cell_type": "code",
   "execution_count": 24,
   "metadata": {},
   "outputs": [
    {
     "data": {
      "text/plain": [
       "array([[2, 5],\n",
       "       [3, 1]])"
      ]
     },
     "execution_count": 24,
     "metadata": {},
     "output_type": "execute_result"
    }
   ],
   "source": [
    "u = np.array([2,5])\n",
    "v = np.array([3,1])\n",
    "z = np.array([[2,5],\n",
    "              [3,1]])\n",
    "z"
   ]
  }
 ],
 "metadata": {
  "kernelspec": {
   "display_name": "base",
   "language": "python",
   "name": "python3"
  },
  "language_info": {
   "codemirror_mode": {
    "name": "ipython",
    "version": 3
   },
   "file_extension": ".py",
   "mimetype": "text/x-python",
   "name": "python",
   "nbconvert_exporter": "python",
   "pygments_lexer": "ipython3",
   "version": "3.9.13"
  },
  "orig_nbformat": 4
 },
 "nbformat": 4,
 "nbformat_minor": 2
}
