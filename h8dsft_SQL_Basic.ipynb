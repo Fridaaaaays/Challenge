{
 "cells": [
  {
   "attachments": {},
   "cell_type": "markdown",
   "metadata": {},
   "source": [
    " **NGC Day 1**\n",
    "\n",
    "Q1\n",
    "```\n",
    "SELECT stations.station_id , \n",
    "      stations.name, \n",
    "      stations.landmark, \n",
    "      trips.trip_id, \n",
    "      trips.start_date, \n",
    "      trips.subscriber_type, \n",
    "      trips.start_station_name, \n",
    "      trips.start_station_id\n",
    "FROM `bigquery-public-data.san_francisco.bikeshare_stations` AS stations\n",
    "JOIN `bigquery-public-data.san_francisco.bikeshare_trips` AS trips\n",
    "ON stations.station_id = trips.start_station_id\n",
    "WHERE landmark = 'Redwood City' AND\n",
    "      subscriber_type = 'Subscriber'AND\n",
    "      start_date BETWEEN '2016-01-01 00:00:00' AND '2016-03-31 23:59:00'\n",
    "```\n",
    "Q2\n",
    "```\n",
    "SELECT stations.station_id , \n",
    "      stations.name, \n",
    "      stations.landmark, \n",
    "      trips.trip_id, \n",
    "      trips.start_date, \n",
    "      trips.subscriber_type, \n",
    "      trips.start_station_name, \n",
    "      trips.start_station_id\n",
    "FROM `bigquery-public-data.san_francisco.bikeshare_stations` AS stations\n",
    "JOIN `bigquery-public-data.san_francisco.bikeshare_trips` AS trips\n",
    "ON stations.station_id = trips.start_station_id\n",
    "WHERE landmark = 'Redwood City' AND\n",
    "      subscriber_type = 'Subscriber'AND\n",
    "      start_date BETWEEN '2016-03-31 00:00:00' AND '2016-06-30 23:59:00' \n",
    "```\n",
    "Q1 = Ada peminjaman sepeda 409 kali di Redwood city oleh para subscriber\n",
    "\n",
    "Q2 = Ada peminjaman sepeda 347 kali di Redwood city oleh para subscriber\n",
    "\n",
    "Kesimpulan : Peminjaman sepeda menurun 62 kali atau 16% dari Q1 ke Q2 "
   ]
  },
  {
   "attachments": {},
   "cell_type": "markdown",
   "metadata": {},
   "source": [
    "## Kode lebih simpelnya"
   ]
  },
  {
   "attachments": {},
   "cell_type": "markdown",
   "metadata": {},
   "source": [
    " **NGC Day 1**\n",
    "\n",
    "Q1\n",
    "```\n",
    "SELECT *\n",
    "FROM `bigquery-public-data.san_francisco.bikeshare_stations` AS stations\n",
    "JOIN `bigquery-public-data.san_francisco.bikeshare_trips` AS trips\n",
    "ON stations.station_id = trips.start_station_id\n",
    "WHERE landmark = 'Redwood City' AND\n",
    "      subscriber_type = 'Subscriber'AND\n",
    "      start_date BETWEEN '2016-01-01 00:00:00' AND '2016-03-31 23:59:00'\n",
    "```\n",
    "Q2\n",
    "```\n",
    "SELECT *\n",
    "FROM `bigquery-public-data.san_francisco.bikeshare_stations` AS stations\n",
    "JOIN `bigquery-public-data.san_francisco.bikeshare_trips` AS trips\n",
    "ON stations.station_id = trips.start_station_id\n",
    "WHERE landmark = 'Redwood City' AND\n",
    "      subscriber_type = 'Subscriber'AND\n",
    "      start_date BETWEEN '2016-03-31 00:00:00' AND '2016-06-30 23:59:00' \n",
    "```\n",
    "Q1 = Ada peminjaman sepeda 409 kali di Redwood city oleh para subscriber\n",
    "\n",
    "Q2 = Ada peminjaman sepeda 347 kali di Redwood city oleh para subscriber\n",
    "\n",
    "Kesimpulan : Peminjaman sepeda menurun 62 kali atau 16% dari Q1 ke Q2 "
   ]
  }
 ],
 "metadata": {
  "language_info": {
   "name": "python"
  },
  "orig_nbformat": 4
 },
 "nbformat": 4,
 "nbformat_minor": 2
}
