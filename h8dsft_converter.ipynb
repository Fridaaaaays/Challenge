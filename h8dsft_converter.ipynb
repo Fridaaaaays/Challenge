{
 "cells": [
  {
   "cell_type": "code",
   "execution_count": 1,
   "metadata": {},
   "outputs": [],
   "source": [
    "def convert_kelvin_celcius (kelvin) :\n",
    "  '''kelvin ke celcius'''\n",
    "  print (float(kelvin - 273))\n",
    "def convert_celcius_kelvin (celcius) :\n",
    "  '''celcius ke kelvin'''\n",
    "  print (float(celcius + 273))\n",
    "def convert_farenheit_celcius (farenheit) :\n",
    "  '''farenheit ke celcius'''\n",
    "  print ((farenheit - 32)* 5 / 9)\n",
    "def convert_celcius_farenheit (celcius1) :\n",
    "  '''celcius ke farenheit'''\n",
    "  print (celcius1 * 9 / 5 + 32)\n",
    "def convert_farenheit_kelvin (farenheit1) :\n",
    "  '''farenheit ke kelvin'''\n",
    "  print (5 / 9 *(farenheit1 - 32) + 273)\n",
    "def convert_kelvin_farenheit (kelvin1) :\n",
    "  '''kelvin ke farenheit'''\n",
    "  print (9 / 5 *(kelvin1 - 273) + 32)"
   ]
  },
  {
   "cell_type": "code",
   "execution_count": 2,
   "metadata": {},
   "outputs": [
    {
     "name": "stdout",
     "output_type": "stream",
     "text": [
      "Tidak dikenali, coba ulang\n"
     ]
    }
   ],
   "source": [
    "c = ['celcius', 'Celcius']\n",
    "f = ['farenheit', 'Farenheit']\n",
    "k = ['kelvin', 'Kelvin']\n",
    "x = input('Jenis skala suhu : ' )\n",
    "if x in (c) :\n",
    "  y = (int(input('Berapa derajat? : ')))\n",
    "  print ('Suhu dalam farenheit : ') \n",
    "  convert_celcius_farenheit(y)\n",
    "  print ('Suhu dalam kelvin')\n",
    "  convert_celcius_kelvin(y)\n",
    "elif x in (f) :\n",
    "  z = (int(input('Berapa derajat? : ')))\n",
    "  print ('Suhu dalam Celcius : ')\n",
    "  convert_farenheit_celcius (z)\n",
    "  print ('Suhu dalam kelvin')\n",
    "  convert_farenheit_kelvin (z)\n",
    "elif x in (k) :\n",
    "  a = (int(input('Berapa derajat? : ')))\n",
    "  print ('Suhu dalam Celcius : ')\n",
    "  convert_kelvin_celcius (a)\n",
    "  print ('Suhu dalam farenheit : ')\n",
    "  convert_kelvin_farenheit (a)\n",
    "else :\n",
    "  print ('Tidak dikenali, coba ulang')"
   ]
  }
 ],
 "metadata": {
  "kernelspec": {
   "display_name": "base",
   "language": "python",
   "name": "python3"
  },
  "language_info": {
   "codemirror_mode": {
    "name": "ipython",
    "version": 3
   },
   "file_extension": ".py",
   "mimetype": "text/x-python",
   "name": "python",
   "nbconvert_exporter": "python",
   "pygments_lexer": "ipython3",
   "version": "3.9.13"
  },
  "orig_nbformat": 4
 },
 "nbformat": 4,
 "nbformat_minor": 2
}
