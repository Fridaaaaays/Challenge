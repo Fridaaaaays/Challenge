{
 "cells": [
  {
   "cell_type": "code",
   "execution_count": 2,
   "metadata": {},
   "outputs": [
    {
     "name": "stdout",
     "output_type": "stream",
     "text": [
      "951\n",
      "651\n",
      "69\n",
      "319\n",
      "601\n",
      "485\n",
      "507\n",
      "725\n",
      "547\n",
      "615\n",
      "83\n",
      "165\n",
      "141\n",
      "501\n",
      "263\n",
      "617\n",
      "865\n",
      "575\n",
      "219\n",
      "105\n",
      "941\n",
      "47\n",
      "907\n",
      "375\n",
      "823\n",
      "597\n",
      "615\n",
      "953\n",
      "345\n",
      "399\n",
      "219\n",
      "Done\n"
     ]
    }
   ],
   "source": [
    "numbers = [951,402,984,651,360,69,408,319,601,485,980,507,725,547,544,615,83,165,\n",
    "           141,501,263,617,865,575,219,390,984,592,236,105,942,941,386,462,47,418,\n",
    "           907,344,236,375,823,566,597,978,328,615,953,345,399,162,758,219,918,237,\n",
    "           412,566,826,248,866,950,626,949]\n",
    "for b in numbers :\n",
    "  if b % 2 == 1 :\n",
    "    print (b)\n",
    "  if b == 918 :\n",
    "    break\n",
    "print ('Done')"
   ]
  }
 ],
 "metadata": {
  "kernelspec": {
   "display_name": "base",
   "language": "python",
   "name": "python3"
  },
  "language_info": {
   "codemirror_mode": {
    "name": "ipython",
    "version": 3
   },
   "file_extension": ".py",
   "mimetype": "text/x-python",
   "name": "python",
   "nbconvert_exporter": "python",
   "pygments_lexer": "ipython3",
   "version": "3.9.13"
  },
  "orig_nbformat": 4
 },
 "nbformat": 4,
 "nbformat_minor": 2
}
